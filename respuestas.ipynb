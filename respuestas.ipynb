{
 "cells": [
  {
   "cell_type": "markdown",
   "metadata": {},
   "source": [
    "# Examen Final\n",
    "## Kiel R. Sáenz Zúñiga"
   ]
  },
  {
   "cell_type": "markdown",
   "metadata": {},
   "source": [
    "**1.** Para qué se puede usar Python en lo que respecta a datos. Dar 5 casos y explicar brevemente"
   ]
  },
  {
   "cell_type": "markdown",
   "metadata": {},
   "source": [
    "**1.-** EDA o Análisis Exploratorio de Datos, con python se puede cargar alguna base de datos en distintos formatos y usando librerías como pandas analizar los datos cargados para hacer una limpieza.<br/>\n",
    "**2.-** Visualización de Datos, con otras librerías como seaborn se puede visualizar gráficamente los datos cargados para un mejor análisis.<br/>\n",
    "**3.-** WebScraping, con python también se puede recolectar información de distintas páginas web las cuales puedes ser guardadas para un posterior análisis.<br/>\n",
    "**4.-** Machine Learning, con libreríar como scikit-learn se pueden entrenar distintos modelos tales como regresión lineal, rainforest, etc para luego generar predicciones.<br/>\n",
    "**5.-** Interacción con los Datos, con librerías como DJango o Flask se puede hacer que se interactúen con los datos ya sea para modificarlos o visualizarlos en distintos formatos."
   ]
  },
  {
   "cell_type": "markdown",
   "metadata": {},
   "source": [
    "**2.** ¿Cómo se diferencian Flask de Django? Argumentar."
   ]
  },
  {
   "cell_type": "markdown",
   "metadata": {},
   "source": [
    "Aunque ambos sirven para generar aplicaciones Web, la diferencia principal es en \"la potencia\" que tienen, es decir, Flask es un microframework y es más ligero que Django. En Flask hay más libertad en la generación del código pero se tienen que utilizar librerías externas para algunas funcionalidades que Django ya tiene por defecto. Django es un framework completo y maneja ya una estructura de código que hay que seguir e incluye librerías como para el manejo de formularios, etc."
   ]
  },
  {
   "cell_type": "markdown",
   "metadata": {},
   "source": [
    "**3.** ¿Qué es un API? Explicar en sus propias palabras"
   ]
  },
  {
   "cell_type": "markdown",
   "metadata": {},
   "source": [
    "Una API es una interfaz que sirve para que un servidor interactue en un formato más ligero como es el JSON o el XML a diferencia de un servidor web convencional que devuelve páginas html, es decir, devuelve tanto la data a mostrar como su diseño de visualización. Sin embargo, las APIs devuelven únicamente la data solicitada y ya es responsabilidad del solicitante generar el diseño de visualización o la GUI. Las respuestas, en el caso de las APIs REST son en formato JSON, es decir en un conjunto de clave y valor y puede aceptar los distintos métodos existentes como GET, POST, PUT y DELETE."
   ]
  },
  {
   "cell_type": "markdown",
   "metadata": {},
   "source": [
    "**4.** ¿Cuál es la principal diferencia entre REST y WebSockets?"
   ]
  },
  {
   "cell_type": "markdown",
   "metadata": {},
   "source": [
    "La principal diferencia es la forma de respuesta o conexión. En los WebSockets, hay una interacción bidireccional, para ésto los distintos solicitantes se conectan al servidor y pueden interactuar en ambas direcciones, es decir, los solicitantes pueden enviar peticiones al servidor pero el servidor también puede enviarle mensajes a los solicitantes aunque no haya recibido ninguna petición, pudiendo si se quiere \"compartir\" ésta comunicación entre distintos usuarios o solicitantes. Sin embargo las APIs REST son interacciones tipo petición-respuesta, es decir, el servidor sólo enviará mensajes de respuesta si recibe una petición (request) y ésta respuesta se envía únicamente al solicitante."
   ]
  },
  {
   "cell_type": "markdown",
   "metadata": {},
   "source": [
    "**5.** Describir un ejemplo de API comercial y como funciona – usar otros ejemplos no vistos en el curso."
   ]
  },
  {
   "cell_type": "markdown",
   "metadata": {},
   "source": [
    "Un ejemplo de API comercial puede darse en la información pública que dicha empresa quiera proporcionar. Por ejemplo, posiblemente Spotify tenga una API pública para consultar su catálogo de música pudiendo tener distintos endpoints para distintos tipos de solicitudes. Pudiendo tener endpoints para:\n",
    "- Búsqueda General, el solicitante puede enviar ciertas palabras claves y la API puede responder indicando los álbunes y/o artistas que coinciden con dichas palabras claves\n",
    "- Álbunes de Artista, el solicitante puede enviar el identificador de un artista y la API devolverle la discografía del artista\n",
    "- Canciones de Álbun, el solicitante puee enviar el identificador de un álbun específico y la API devolver las canciones que incluye dicho álbun."
   ]
  },
  {
   "cell_type": "markdown",
   "metadata": {},
   "source": []
  }
 ],
 "metadata": {
  "language_info": {
   "name": "python"
  }
 },
 "nbformat": 4,
 "nbformat_minor": 2
}
